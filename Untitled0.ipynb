{
  "nbformat": 4,
  "nbformat_minor": 0,
  "metadata": {
    "colab": {
      "name": "Untitled0.ipynb",
      "provenance": [],
      "authorship_tag": "ABX9TyPT1h4L3gnckQ7B6gKhoOhi",
      "include_colab_link": true
    },
    "kernelspec": {
      "name": "python3",
      "display_name": "Python 3"
    },
    "language_info": {
      "name": "python"
    }
  },
  "cells": [
    {
      "cell_type": "markdown",
      "metadata": {
        "id": "view-in-github",
        "colab_type": "text"
      },
      "source": [
        "<a href=\"https://colab.research.google.com/github/shellahemmanuella/GitBasics/blob/master/Untitled0.ipynb\" target=\"_parent\"><img src=\"https://colab.research.google.com/assets/colab-badge.svg\" alt=\"Open In Colab\"/></a>"
      ]
    },
    {
      "cell_type": "code",
      "execution_count": 280,
      "metadata": {
        "colab": {
          "base_uri": "https://localhost:8080/"
        },
        "id": "nFKkktOVkgCr",
        "outputId": "95a0b506-f947-4c72-f4b6-e8266b784b65"
      },
      "outputs": [
        {
          "output_type": "stream",
          "name": "stdout",
          "text": [
            "<class 'int'>\n",
            "3\n",
            "9\n",
            "4\n",
            "2\n",
            "0.3333333333333333\n"
          ]
        }
      ],
      "source": [
        "import numpy as np\n",
        "x=3\n",
        "print(type(x))\n",
        "y=1\n",
        "print(x*y)\n",
        "print(x**2)\n",
        "print(x+y)\n",
        "print(x-y)\n",
        "print(y/x)\n",
        "\n",
        "\n",
        "\n",
        "\n"
      ]
    },
    {
      "cell_type": "code",
      "source": [
        "a=np.array([1,2,3])\n",
        "print(a)\n",
        "a\n",
        "type(a)\n",
        "a.shape\n",
        "a[0]=5\n",
        "a\n"
      ],
      "metadata": {
        "colab": {
          "base_uri": "https://localhost:8080/"
        },
        "id": "2PHUJl_VrQsy",
        "outputId": "f8db5f91-b138-4a69-a1e9-bf0d9450b5b1"
      },
      "execution_count": 281,
      "outputs": [
        {
          "output_type": "stream",
          "name": "stdout",
          "text": [
            "[1 2 3]\n"
          ]
        },
        {
          "output_type": "execute_result",
          "data": {
            "text/plain": [
              "array([5, 2, 3])"
            ]
          },
          "metadata": {},
          "execution_count": 281
        }
      ]
    },
    {
      "cell_type": "code",
      "source": [
        "b=np.array([[1,2,3],[4,5,6]])\n",
        "b\n",
        "b.shape"
      ],
      "metadata": {
        "id": "UsgJeVbsut3Y",
        "outputId": "cd337674-ca3c-4902-d2c6-9cff25fe0ebc",
        "colab": {
          "base_uri": "https://localhost:8080/"
        }
      },
      "execution_count": 282,
      "outputs": [
        {
          "output_type": "execute_result",
          "data": {
            "text/plain": [
              "(2, 3)"
            ]
          },
          "metadata": {},
          "execution_count": 282
        }
      ]
    },
    {
      "cell_type": "markdown",
      "source": [
        "A numpy array is a grid of values, all of the same type, and is indexed bt a tuple of non-negative integers.The number of dimensions in the rank of the array; the shape of an array is a tuple of integers giving the size of the array along each dimension.We can initialize numpy arrays from nested python lists and access elements using square brackets."
      ],
      "metadata": {
        "id": "LlFh3VvRwOR7"
      }
    },
    {
      "cell_type": "markdown",
      "source": [
        "numpy also provides many functions to create arrays."
      ],
      "metadata": {
        "id": "ibq0j4JUxuZt"
      }
    },
    {
      "cell_type": "code",
      "source": [
        "c=np.zeros((2,2))\n",
        "d=np.ones((3,3))\n",
        "np.full((2,2),7)#created matrix with element 7\n",
        "np.eye(2)#created an identity matrix"
      ],
      "metadata": {
        "id": "ohx4kMY2zH_3",
        "outputId": "973a91d5-a07e-439c-a18f-82887c58ba77",
        "colab": {
          "base_uri": "https://localhost:8080/"
        }
      },
      "execution_count": 283,
      "outputs": [
        {
          "output_type": "execute_result",
          "data": {
            "text/plain": [
              "array([[1., 0.],\n",
              "       [0., 1.]])"
            ]
          },
          "metadata": {},
          "execution_count": 283
        }
      ]
    },
    {
      "cell_type": "code",
      "source": [
        "np.random.random((2,2))#created random arrays"
      ],
      "metadata": {
        "id": "ZpC1AsB92KEE",
        "outputId": "a7b76bb7-d87d-49a9-f636-8efdcf258e2f",
        "colab": {
          "base_uri": "https://localhost:8080/"
        }
      },
      "execution_count": 284,
      "outputs": [
        {
          "output_type": "execute_result",
          "data": {
            "text/plain": [
              "array([[0.65679713, 0.76255189],\n",
              "       [0.22033268, 0.16772259]])"
            ]
          },
          "metadata": {},
          "execution_count": 284
        }
      ]
    },
    {
      "cell_type": "code",
      "source": [
        "??"
      ],
      "metadata": {
        "id": "VvItmGNH3-sA",
        "outputId": "0960fd47-1200-41c7-e2f4-2b34f3346214",
        "colab": {
          "base_uri": "https://localhost:8080/"
        }
      },
      "execution_count": 285,
      "outputs": [
        {
          "output_type": "stream",
          "name": "stdout",
          "text": [
            "Object `` not found.\n"
          ]
        }
      ]
    },
    {
      "cell_type": "markdown",
      "source": [
        "**array maths**\n",
        "Basic mathematical functions operate elementwise and are available as operator overloads and as functions in numpy\n"
      ],
      "metadata": {
        "id": "HwFRVFDA5K6x"
      }
    },
    {
      "cell_type": "code",
      "source": [
        "x=np.array([[1,2],[3,4]])\n",
        "y=np.array([[5,6],[7,8]])\n",
        "print(x+y)#adding with operators\n",
        "print(x-y)#subtracting with operators\n",
        "print(np.add(x,y))#adding with functions\n",
        "print(x**2)#getting square of x\n",
        "print(np.subtract(x,y))#subtracting using functions\n",
        "print(x/y)#dividing with operators\n",
        "print(np.divide(x,y))#dividing using functions"
      ],
      "metadata": {
        "colab": {
          "base_uri": "https://localhost:8080/"
        },
        "id": "GKwi9TLJ5qbu",
        "outputId": "8afd13ee-ea7f-400e-8f89-ca272a4dca0b"
      },
      "execution_count": 286,
      "outputs": [
        {
          "output_type": "stream",
          "name": "stdout",
          "text": [
            "[[ 6  8]\n",
            " [10 12]]\n",
            "[[-4 -4]\n",
            " [-4 -4]]\n",
            "[[ 6  8]\n",
            " [10 12]]\n",
            "[[ 1  4]\n",
            " [ 9 16]]\n",
            "[[-4 -4]\n",
            " [-4 -4]]\n",
            "[[0.2        0.33333333]\n",
            " [0.42857143 0.5       ]]\n",
            "[[0.2        0.33333333]\n",
            " [0.42857143 0.5       ]]\n"
          ]
        }
      ]
    },
    {
      "cell_type": "markdown",
      "source": [
        "**Note:** dot product\n",
        "in matrices mulplications is done using a dot"
      ],
      "metadata": {
        "id": "x9uCudut8Yme"
      }
    },
    {
      "cell_type": "code",
      "source": [
        "v=np.array([9,10])\n",
        "w=np.array([11,12])\n",
        "x=np.array([[1,2],[3,4]])\n",
        "y=np.array([[5,6],[7,8]])\n",
        "#inner product\n",
        "v.dot(w)\n",
        "w.dot(v)\n",
        "\n"
      ],
      "metadata": {
        "id": "QOm7qN2G80kp",
        "outputId": "f7161b99-cd41-4d4f-f1e0-0387612ee76d",
        "colab": {
          "base_uri": "https://localhost:8080/"
        }
      },
      "execution_count": 287,
      "outputs": [
        {
          "output_type": "execute_result",
          "data": {
            "text/plain": [
              "219"
            ]
          },
          "metadata": {},
          "execution_count": 287
        }
      ]
    },
    {
      "cell_type": "markdown",
      "source": [
        "vector matrix product"
      ],
      "metadata": {
        "id": "q_SBXsaS-7OA"
      }
    },
    {
      "cell_type": "code",
      "source": [
        "x.dot(w)\n",
        "#these are vector matrix multiplications"
      ],
      "metadata": {
        "id": "5J4pOG1j_DFR",
        "outputId": "3cd3ec5c-9972-48f5-8c09-48d61b09db7e",
        "colab": {
          "base_uri": "https://localhost:8080/"
        }
      },
      "execution_count": 288,
      "outputs": [
        {
          "output_type": "execute_result",
          "data": {
            "text/plain": [
              "array([35, 81])"
            ]
          },
          "metadata": {},
          "execution_count": 288
        }
      ]
    },
    {
      "cell_type": "code",
      "source": [
        "x.dot(v)"
      ],
      "metadata": {
        "id": "RSuHGa6x_aTM",
        "outputId": "9a35b722-06bc-4498-d9cb-3a8b5aa48df5",
        "colab": {
          "base_uri": "https://localhost:8080/"
        }
      },
      "execution_count": 289,
      "outputs": [
        {
          "output_type": "execute_result",
          "data": {
            "text/plain": [
              "array([29, 67])"
            ]
          },
          "metadata": {},
          "execution_count": 289
        }
      ]
    },
    {
      "cell_type": "code",
      "source": [
        "y.dot(w)"
      ],
      "metadata": {
        "id": "asAKcLhf_lLZ",
        "outputId": "20466567-92b5-4262-8ea3-13e973d7a98c",
        "colab": {
          "base_uri": "https://localhost:8080/"
        }
      },
      "execution_count": 290,
      "outputs": [
        {
          "output_type": "execute_result",
          "data": {
            "text/plain": [
              "array([127, 173])"
            ]
          },
          "metadata": {},
          "execution_count": 290
        }
      ]
    },
    {
      "cell_type": "markdown",
      "source": [
        "matrix matrix multiplication"
      ],
      "metadata": {
        "id": "cXve9-stAEaF"
      }
    },
    {
      "cell_type": "code",
      "source": [
        "x.dot(y) #these are both matrices"
      ],
      "metadata": {
        "id": "W1ge9M3BAKUi",
        "outputId": "91b1c3a6-7152-455e-b757-59d7ffe34585",
        "colab": {
          "base_uri": "https://localhost:8080/"
        }
      },
      "execution_count": 291,
      "outputs": [
        {
          "output_type": "execute_result",
          "data": {
            "text/plain": [
              "array([[19, 22],\n",
              "       [43, 50]])"
            ]
          },
          "metadata": {},
          "execution_count": 291
        }
      ]
    },
    {
      "cell_type": "code",
      "source": [
        "y.dot(x)"
      ],
      "metadata": {
        "id": "Su6nJyAdASCI",
        "outputId": "3e1b8e57-9329-40e4-d3f5-192c6dfa894b",
        "colab": {
          "base_uri": "https://localhost:8080/"
        }
      },
      "execution_count": 292,
      "outputs": [
        {
          "output_type": "execute_result",
          "data": {
            "text/plain": [
              "array([[23, 34],\n",
              "       [31, 46]])"
            ]
          },
          "metadata": {},
          "execution_count": 292
        }
      ]
    },
    {
      "cell_type": "markdown",
      "source": [
        "transpose"
      ],
      "metadata": {
        "id": "t-DeL7f1A0xr"
      }
    },
    {
      "cell_type": "code",
      "source": [
        "#these are transpose\n",
        "x=np.array([[1,2],[3,4]])\n",
        "x.T"
      ],
      "metadata": {
        "id": "h99yiUmEA8de",
        "outputId": "ce3db9c1-2b3a-4dfa-a2ee-1b9683850510",
        "colab": {
          "base_uri": "https://localhost:8080/"
        }
      },
      "execution_count": 293,
      "outputs": [
        {
          "output_type": "execute_result",
          "data": {
            "text/plain": [
              "array([[1, 3],\n",
              "       [2, 4]])"
            ]
          },
          "metadata": {},
          "execution_count": 293
        }
      ]
    }
  ]
}